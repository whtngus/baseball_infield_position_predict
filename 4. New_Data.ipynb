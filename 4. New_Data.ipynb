{
 "cells": [
  {
   "cell_type": "code",
   "execution_count": 1,
   "metadata": {},
   "outputs": [],
   "source": [
    "import pandas as pd\n",
    "import numpy as np\n",
    "import pickle\n",
    "import glob\n",
    "import os\n",
    "import matplotlib.pyplot as plt\n",
    "import seaborn as sns\n",
    "import lightgbm as lgb\n",
    "from sklearn import svm\n",
    "from sklearn.linear_model import LogisticRegression\n",
    "from sklearn.metrics import accuracy_score\n",
    "from sklearn.model_selection import train_test_split\n",
    "from sklearn.ensemble import RandomForestClassifier, AdaBoostClassifier\n",
    "from sklearn.tree import DecisionTreeClassifier\n",
    "from sklearn.preprocessing import MultiLabelBinarizer\n",
    "from sklearn.model_selection import cross_val_score\n",
    "#Supress default INFO logging\n",
    "import logging\n",
    "logger = logging.getLogger()\n",
    "logger.setLevel(logging.CRITICAL)\n",
    "plt.rcParams['font.family'] = 'NanumGothic'\n",
    "plt.rcParams['font.family'] = 'Malgun Gothic'\n"
   ]
  },
  {
   "cell_type": "markdown",
   "metadata": {},
   "source": [
    "# data load  and preprocessing"
   ]
  },
  {
   "cell_type": "code",
   "execution_count": 2,
   "metadata": {},
   "outputs": [],
   "source": [
    "defende_path = \"./data/수비/\"\n",
    "batter_path = \"./data/타자/\"\n",
    "file_list = ['2011.tsv','2012.tsv','2013.tsv','2014.tsv','2015.tsv','2016.tsv','2017.tsv','2018.tsv','2019.tsv']"
   ]
  },
  {
   "cell_type": "code",
   "execution_count": 3,
   "metadata": {},
   "outputs": [],
   "source": [
    "def data_load(file_list, defende_path,batter_path):\n",
    "    df = pd.DataFrame()\n",
    "    for data_path in file_list:\n",
    "        defender = pd.read_csv(defende_path + data_path,sep=\"\\t\")\n",
    "        batter = pd.read_csv(batter_path + data_path,sep=\"\\t\")\n",
    "        data = pd.merge(defender,batter,on=[\"선수명\",\"팀명\"])\n",
    "        df = pd.concat([df,data])\n",
    "    return df, list(defender.columns)"
   ]
  },
  {
   "cell_type": "code",
   "execution_count": 4,
   "metadata": {},
   "outputs": [],
   "source": [
    "def del_noise_column(data, columns):\n",
    "    noise_columns = [\"순위_x\",\"순위_y\",\"G_x\"] + columns\n",
    "    for column in noise_columns:\n",
    "        if column in data:\n",
    "            del data[column]\n",
    "    return data"
   ]
  },
  {
   "cell_type": "code",
   "execution_count": 5,
   "metadata": {},
   "outputs": [],
   "source": [
    "#### defender_coumns 제거를 위해  수비수 포지션을 받고  포지션은 제거 리스트에서 제외"
   ]
  },
  {
   "cell_type": "code",
   "execution_count": 6,
   "metadata": {},
   "outputs": [],
   "source": [
    "df, defender_coumns = data_load(file_list, defende_path, batter_path)\n",
    "del defender_coumns[defender_coumns.index(\"POS\")]\n",
    "del defender_coumns[defender_coumns.index(\"선수명\")]\n",
    "del defender_coumns[defender_coumns.index(\"팀명\")]"
   ]
  },
  {
   "cell_type": "code",
   "execution_count": 7,
   "metadata": {},
   "outputs": [],
   "source": [
    "df = del_noise_column(df,list(defender_coumns))"
   ]
  },
  {
   "cell_type": "code",
   "execution_count": 8,
   "metadata": {},
   "outputs": [],
   "source": [
    "if \"선수명\" in df:\n",
    "    df_name = df[\"선수명\"]\n",
    "    del df[\"선수명\"]\n",
    "\n",
    "label = None\n",
    "if \"POS\" in df:\n",
    "    label = df[\"POS\"]\n",
    "    del df[\"POS\"]"
   ]
  },
  {
   "cell_type": "code",
   "execution_count": 9,
   "metadata": {},
   "outputs": [],
   "source": [
    "del df[\"팀명\"]\n",
    "# 팀명 원핫 인코딩\n",
    "# if \"팀명\" in df:\n",
    "#     one_hot_encoded = pd.get_dummies(df.팀명) \n",
    "#     del df[\"팀명\"]\n",
    "#     df = pd.concat([one_hot_encoded,df],axis=1)"
   ]
  },
  {
   "cell_type": "markdown",
   "metadata": {},
   "source": [
    "# 테스트 추가 데이터 로드"
   ]
  },
  {
   "cell_type": "code",
   "execution_count": 16,
   "metadata": {},
   "outputs": [],
   "source": [
    "test_path = \"./data/test/2019.tsv\"\n",
    "game_data_path = \"./data/컴투스프로야구_수비/02_08.tsv\""
   ]
  },
  {
   "cell_type": "code",
   "execution_count": 19,
   "metadata": {},
   "outputs": [],
   "source": [
    "test_data = pd.read_csv(test_path,sep=\"\\t\")\n",
    "game_data = pd.read_csv(game_data_path,sep=\"\\t\")"
   ]
  },
  {
   "cell_type": "code",
   "execution_count": 24,
   "metadata": {},
   "outputs": [],
   "source": [
    "pd.merge(test_data,game_data, left_on=\"선수명\",right_on=\"선수\").to_csv(\"test.csv\")\n"
   ]
  }
 ],
 "metadata": {
  "kernelspec": {
   "display_name": "Python 3",
   "language": "python",
   "name": "python3"
  },
  "language_info": {
   "codemirror_mode": {
    "name": "ipython",
    "version": 3
   },
   "file_extension": ".py",
   "mimetype": "text/x-python",
   "name": "python",
   "nbconvert_exporter": "python",
   "pygments_lexer": "ipython3",
   "version": "3.7.4"
  }
 },
 "nbformat": 4,
 "nbformat_minor": 2
}
